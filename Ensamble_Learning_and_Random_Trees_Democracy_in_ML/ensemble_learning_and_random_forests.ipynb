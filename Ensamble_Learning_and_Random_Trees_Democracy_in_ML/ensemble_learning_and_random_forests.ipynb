{
 "cells": [
  {
   "cell_type": "markdown",
   "id": "9be65e8c-2ece-42f8-9227-6a3988e8f255",
   "metadata": {},
   "source": [
    "# Ensemble learning and random forests - democracy in Machine Learning"
   ]
  },
  {
   "cell_type": "markdown",
   "id": "c28fe987-f9ff-4984-9380-92ec59f5f0c0",
   "metadata": {},
   "source": [
    "## 1. Data import"
   ]
  },
  {
   "cell_type": "markdown",
   "id": "afc9e332-74aa-4dc5-8d16-e06552e5bd1b",
   "metadata": {},
   "source": [
    "**In this notebook we will use the Wisconsin Breast Cancer dataset available in sklearn.datasets module**"
   ]
  },
  {
   "cell_type": "markdown",
   "id": "d4528c4f-3ea9-4fe8-a551-083fbc1b1cac",
   "metadata": {},
   "source": [
    "**For simplicity and visualization purposes, we will focus on two features:**\n",
    "- `mean texture`\n",
    "- `mean symmetry`\n",
    "\n",
    "**Our goal is to classify tumors as `malignant` or `benign` using ensemble methods.**\n",
    "\n",
    "**This project aims to demonstrate how `ensemble learning`, by combining multiple weak or individual models, can produce **stronger and more reliable predictions** than those obtained from any single model alone.   We will compare various ensemble strategies to see how they improve performance and generalization.**"
   ]
  },
  {
   "cell_type": "code",
   "execution_count": 1,
   "id": "55fd2fd5-6f1c-481d-a368-f2eb4c94ba45",
   "metadata": {},
   "outputs": [
    {
     "name": "stdout",
     "output_type": "stream",
     "text": [
      ".. _breast_cancer_dataset:\n",
      "\n",
      "Breast cancer wisconsin (diagnostic) dataset\n",
      "--------------------------------------------\n",
      "\n",
      "**Data Set Characteristics:**\n",
      "\n",
      ":Number of Instances: 569\n",
      "\n",
      ":Number of Attributes: 30 numeric, predictive attributes and the class\n",
      "\n",
      ":Attribute Information:\n",
      "    - radius (mean of distances from center to points on the perimeter)\n",
      "    - texture (standard deviation of gray-scale values)\n",
      "    - perimeter\n",
      "    - area\n",
      "    - smoothness (local variation in radius lengths)\n",
      "    - compactness (perimeter^2 / area - 1.0)\n",
      "    - concavity (severity of concave portions of the contour)\n",
      "    - concave points (number of concave portions of the contour)\n",
      "    - symmetry\n",
      "    - fractal dimension (\"coastline approximation\" - 1)\n",
      "\n",
      "    The mean, standard error, and \"worst\" or largest (mean of the three\n",
      "    worst/largest values) of these features were computed for each image,\n",
      "    resulting in 30 features.  For instance, field 0 is Mean Radius, field\n",
      "    10 is Radius SE, field 20 is Worst Radius.\n",
      "\n",
      "    - class:\n",
      "            - WDBC-Malignant\n",
      "            - WDBC-Benign\n",
      "\n",
      ":Summary Statistics:\n",
      "\n",
      "===================================== ====== ======\n",
      "                                        Min    Max\n",
      "===================================== ====== ======\n",
      "radius (mean):                        6.981  28.11\n",
      "texture (mean):                       9.71   39.28\n",
      "perimeter (mean):                     43.79  188.5\n",
      "area (mean):                          143.5  2501.0\n",
      "smoothness (mean):                    0.053  0.163\n",
      "compactness (mean):                   0.019  0.345\n",
      "concavity (mean):                     0.0    0.427\n",
      "concave points (mean):                0.0    0.201\n",
      "symmetry (mean):                      0.106  0.304\n",
      "fractal dimension (mean):             0.05   0.097\n",
      "radius (standard error):              0.112  2.873\n",
      "texture (standard error):             0.36   4.885\n",
      "perimeter (standard error):           0.757  21.98\n",
      "area (standard error):                6.802  542.2\n",
      "smoothness (standard error):          0.002  0.031\n",
      "compactness (standard error):         0.002  0.135\n",
      "concavity (standard error):           0.0    0.396\n",
      "concave points (standard error):      0.0    0.053\n",
      "symmetry (standard error):            0.008  0.079\n",
      "fractal dimension (standard error):   0.001  0.03\n",
      "radius (worst):                       7.93   36.04\n",
      "texture (worst):                      12.02  49.54\n",
      "perimeter (worst):                    50.41  251.2\n",
      "area (worst):                         185.2  4254.0\n",
      "smoothness (worst):                   0.071  0.223\n",
      "compactness (worst):                  0.027  1.058\n",
      "concavity (worst):                    0.0    1.252\n",
      "concave points (worst):               0.0    0.291\n",
      "symmetry (worst):                     0.156  0.664\n",
      "fractal dimension (worst):            0.055  0.208\n",
      "===================================== ====== ======\n",
      "\n",
      ":Missing Attribute Values: None\n",
      "\n",
      ":Class Distribution: 212 - Malignant, 357 - Benign\n",
      "\n",
      ":Creator:  Dr. William H. Wolberg, W. Nick Street, Olvi L. Mangasarian\n",
      "\n",
      ":Donor: Nick Street\n",
      "\n",
      ":Date: November, 1995\n",
      "\n",
      "This is a copy of UCI ML Breast Cancer Wisconsin (Diagnostic) datasets.\n",
      "https://goo.gl/U2Uwz2\n",
      "\n",
      "Features are computed from a digitized image of a fine needle\n",
      "aspirate (FNA) of a breast mass.  They describe\n",
      "characteristics of the cell nuclei present in the image.\n",
      "\n",
      "Separating plane described above was obtained using\n",
      "Multisurface Method-Tree (MSM-T) [K. P. Bennett, \"Decision Tree\n",
      "Construction Via Linear Programming.\" Proceedings of the 4th\n",
      "Midwest Artificial Intelligence and Cognitive Science Society,\n",
      "pp. 97-101, 1992], a classification method which uses linear\n",
      "programming to construct a decision tree.  Relevant features\n",
      "were selected using an exhaustive search in the space of 1-4\n",
      "features and 1-3 separating planes.\n",
      "\n",
      "The actual linear program used to obtain the separating plane\n",
      "in the 3-dimensional space is that described in:\n",
      "[K. P. Bennett and O. L. Mangasarian: \"Robust Linear\n",
      "Programming Discrimination of Two Linearly Inseparable Sets\",\n",
      "Optimization Methods and Software 1, 1992, 23-34].\n",
      "\n",
      "This database is also available through the UW CS ftp server:\n",
      "\n",
      "ftp ftp.cs.wisc.edu\n",
      "cd math-prog/cpo-dataset/machine-learn/WDBC/\n",
      "\n",
      "|details-start|\n",
      "**References**\n",
      "|details-split|\n",
      "\n",
      "- W.N. Street, W.H. Wolberg and O.L. Mangasarian. Nuclear feature extraction\n",
      "  for breast tumor diagnosis. IS&T/SPIE 1993 International Symposium on\n",
      "  Electronic Imaging: Science and Technology, volume 1905, pages 861-870,\n",
      "  San Jose, CA, 1993.\n",
      "- O.L. Mangasarian, W.N. Street and W.H. Wolberg. Breast cancer diagnosis and\n",
      "  prognosis via linear programming. Operations Research, 43(4), pages 570-577,\n",
      "  July-August 1995.\n",
      "- W.H. Wolberg, W.N. Street, and O.L. Mangasarian. Machine learning techniques\n",
      "  to diagnose breast cancer from fine-needle aspirates. Cancer Letters 77 (1994)\n",
      "  163-171.\n",
      "\n",
      "|details-end|\n",
      "\n"
     ]
    }
   ],
   "source": [
    "from sklearn import datasets\n",
    "\n",
    "data_breast_cancer = datasets.load_breast_cancer(as_frame=True)\n",
    "print(data_breast_cancer['DESCR'])"
   ]
  },
  {
   "cell_type": "code",
   "execution_count": 2,
   "id": "8441c4b7-e15a-4b3e-8775-ed38d000688e",
   "metadata": {},
   "outputs": [
    {
     "data": {
      "text/html": [
       "<div>\n",
       "<style scoped>\n",
       "    .dataframe tbody tr th:only-of-type {\n",
       "        vertical-align: middle;\n",
       "    }\n",
       "\n",
       "    .dataframe tbody tr th {\n",
       "        vertical-align: top;\n",
       "    }\n",
       "\n",
       "    .dataframe thead th {\n",
       "        text-align: right;\n",
       "    }\n",
       "</style>\n",
       "<table border=\"1\" class=\"dataframe\">\n",
       "  <thead>\n",
       "    <tr style=\"text-align: right;\">\n",
       "      <th></th>\n",
       "      <th>mean radius</th>\n",
       "      <th>mean texture</th>\n",
       "      <th>mean perimeter</th>\n",
       "      <th>mean area</th>\n",
       "      <th>mean smoothness</th>\n",
       "      <th>mean compactness</th>\n",
       "      <th>mean concavity</th>\n",
       "      <th>mean concave points</th>\n",
       "      <th>mean symmetry</th>\n",
       "      <th>mean fractal dimension</th>\n",
       "      <th>...</th>\n",
       "      <th>worst texture</th>\n",
       "      <th>worst perimeter</th>\n",
       "      <th>worst area</th>\n",
       "      <th>worst smoothness</th>\n",
       "      <th>worst compactness</th>\n",
       "      <th>worst concavity</th>\n",
       "      <th>worst concave points</th>\n",
       "      <th>worst symmetry</th>\n",
       "      <th>worst fractal dimension</th>\n",
       "      <th>target</th>\n",
       "    </tr>\n",
       "  </thead>\n",
       "  <tbody>\n",
       "    <tr>\n",
       "      <th>0</th>\n",
       "      <td>17.99</td>\n",
       "      <td>10.38</td>\n",
       "      <td>122.80</td>\n",
       "      <td>1001.0</td>\n",
       "      <td>0.11840</td>\n",
       "      <td>0.27760</td>\n",
       "      <td>0.30010</td>\n",
       "      <td>0.14710</td>\n",
       "      <td>0.2419</td>\n",
       "      <td>0.07871</td>\n",
       "      <td>...</td>\n",
       "      <td>17.33</td>\n",
       "      <td>184.60</td>\n",
       "      <td>2019.0</td>\n",
       "      <td>0.1622</td>\n",
       "      <td>0.6656</td>\n",
       "      <td>0.7119</td>\n",
       "      <td>0.2654</td>\n",
       "      <td>0.4601</td>\n",
       "      <td>0.11890</td>\n",
       "      <td>0</td>\n",
       "    </tr>\n",
       "    <tr>\n",
       "      <th>1</th>\n",
       "      <td>20.57</td>\n",
       "      <td>17.77</td>\n",
       "      <td>132.90</td>\n",
       "      <td>1326.0</td>\n",
       "      <td>0.08474</td>\n",
       "      <td>0.07864</td>\n",
       "      <td>0.08690</td>\n",
       "      <td>0.07017</td>\n",
       "      <td>0.1812</td>\n",
       "      <td>0.05667</td>\n",
       "      <td>...</td>\n",
       "      <td>23.41</td>\n",
       "      <td>158.80</td>\n",
       "      <td>1956.0</td>\n",
       "      <td>0.1238</td>\n",
       "      <td>0.1866</td>\n",
       "      <td>0.2416</td>\n",
       "      <td>0.1860</td>\n",
       "      <td>0.2750</td>\n",
       "      <td>0.08902</td>\n",
       "      <td>0</td>\n",
       "    </tr>\n",
       "    <tr>\n",
       "      <th>2</th>\n",
       "      <td>19.69</td>\n",
       "      <td>21.25</td>\n",
       "      <td>130.00</td>\n",
       "      <td>1203.0</td>\n",
       "      <td>0.10960</td>\n",
       "      <td>0.15990</td>\n",
       "      <td>0.19740</td>\n",
       "      <td>0.12790</td>\n",
       "      <td>0.2069</td>\n",
       "      <td>0.05999</td>\n",
       "      <td>...</td>\n",
       "      <td>25.53</td>\n",
       "      <td>152.50</td>\n",
       "      <td>1709.0</td>\n",
       "      <td>0.1444</td>\n",
       "      <td>0.4245</td>\n",
       "      <td>0.4504</td>\n",
       "      <td>0.2430</td>\n",
       "      <td>0.3613</td>\n",
       "      <td>0.08758</td>\n",
       "      <td>0</td>\n",
       "    </tr>\n",
       "    <tr>\n",
       "      <th>3</th>\n",
       "      <td>11.42</td>\n",
       "      <td>20.38</td>\n",
       "      <td>77.58</td>\n",
       "      <td>386.1</td>\n",
       "      <td>0.14250</td>\n",
       "      <td>0.28390</td>\n",
       "      <td>0.24140</td>\n",
       "      <td>0.10520</td>\n",
       "      <td>0.2597</td>\n",
       "      <td>0.09744</td>\n",
       "      <td>...</td>\n",
       "      <td>26.50</td>\n",
       "      <td>98.87</td>\n",
       "      <td>567.7</td>\n",
       "      <td>0.2098</td>\n",
       "      <td>0.8663</td>\n",
       "      <td>0.6869</td>\n",
       "      <td>0.2575</td>\n",
       "      <td>0.6638</td>\n",
       "      <td>0.17300</td>\n",
       "      <td>0</td>\n",
       "    </tr>\n",
       "    <tr>\n",
       "      <th>4</th>\n",
       "      <td>20.29</td>\n",
       "      <td>14.34</td>\n",
       "      <td>135.10</td>\n",
       "      <td>1297.0</td>\n",
       "      <td>0.10030</td>\n",
       "      <td>0.13280</td>\n",
       "      <td>0.19800</td>\n",
       "      <td>0.10430</td>\n",
       "      <td>0.1809</td>\n",
       "      <td>0.05883</td>\n",
       "      <td>...</td>\n",
       "      <td>16.67</td>\n",
       "      <td>152.20</td>\n",
       "      <td>1575.0</td>\n",
       "      <td>0.1374</td>\n",
       "      <td>0.2050</td>\n",
       "      <td>0.4000</td>\n",
       "      <td>0.1625</td>\n",
       "      <td>0.2364</td>\n",
       "      <td>0.07678</td>\n",
       "      <td>0</td>\n",
       "    </tr>\n",
       "    <tr>\n",
       "      <th>5</th>\n",
       "      <td>12.45</td>\n",
       "      <td>15.70</td>\n",
       "      <td>82.57</td>\n",
       "      <td>477.1</td>\n",
       "      <td>0.12780</td>\n",
       "      <td>0.17000</td>\n",
       "      <td>0.15780</td>\n",
       "      <td>0.08089</td>\n",
       "      <td>0.2087</td>\n",
       "      <td>0.07613</td>\n",
       "      <td>...</td>\n",
       "      <td>23.75</td>\n",
       "      <td>103.40</td>\n",
       "      <td>741.6</td>\n",
       "      <td>0.1791</td>\n",
       "      <td>0.5249</td>\n",
       "      <td>0.5355</td>\n",
       "      <td>0.1741</td>\n",
       "      <td>0.3985</td>\n",
       "      <td>0.12440</td>\n",
       "      <td>0</td>\n",
       "    </tr>\n",
       "    <tr>\n",
       "      <th>6</th>\n",
       "      <td>18.25</td>\n",
       "      <td>19.98</td>\n",
       "      <td>119.60</td>\n",
       "      <td>1040.0</td>\n",
       "      <td>0.09463</td>\n",
       "      <td>0.10900</td>\n",
       "      <td>0.11270</td>\n",
       "      <td>0.07400</td>\n",
       "      <td>0.1794</td>\n",
       "      <td>0.05742</td>\n",
       "      <td>...</td>\n",
       "      <td>27.66</td>\n",
       "      <td>153.20</td>\n",
       "      <td>1606.0</td>\n",
       "      <td>0.1442</td>\n",
       "      <td>0.2576</td>\n",
       "      <td>0.3784</td>\n",
       "      <td>0.1932</td>\n",
       "      <td>0.3063</td>\n",
       "      <td>0.08368</td>\n",
       "      <td>0</td>\n",
       "    </tr>\n",
       "    <tr>\n",
       "      <th>7</th>\n",
       "      <td>13.71</td>\n",
       "      <td>20.83</td>\n",
       "      <td>90.20</td>\n",
       "      <td>577.9</td>\n",
       "      <td>0.11890</td>\n",
       "      <td>0.16450</td>\n",
       "      <td>0.09366</td>\n",
       "      <td>0.05985</td>\n",
       "      <td>0.2196</td>\n",
       "      <td>0.07451</td>\n",
       "      <td>...</td>\n",
       "      <td>28.14</td>\n",
       "      <td>110.60</td>\n",
       "      <td>897.0</td>\n",
       "      <td>0.1654</td>\n",
       "      <td>0.3682</td>\n",
       "      <td>0.2678</td>\n",
       "      <td>0.1556</td>\n",
       "      <td>0.3196</td>\n",
       "      <td>0.11510</td>\n",
       "      <td>0</td>\n",
       "    </tr>\n",
       "    <tr>\n",
       "      <th>8</th>\n",
       "      <td>13.00</td>\n",
       "      <td>21.82</td>\n",
       "      <td>87.50</td>\n",
       "      <td>519.8</td>\n",
       "      <td>0.12730</td>\n",
       "      <td>0.19320</td>\n",
       "      <td>0.18590</td>\n",
       "      <td>0.09353</td>\n",
       "      <td>0.2350</td>\n",
       "      <td>0.07389</td>\n",
       "      <td>...</td>\n",
       "      <td>30.73</td>\n",
       "      <td>106.20</td>\n",
       "      <td>739.3</td>\n",
       "      <td>0.1703</td>\n",
       "      <td>0.5401</td>\n",
       "      <td>0.5390</td>\n",
       "      <td>0.2060</td>\n",
       "      <td>0.4378</td>\n",
       "      <td>0.10720</td>\n",
       "      <td>0</td>\n",
       "    </tr>\n",
       "    <tr>\n",
       "      <th>9</th>\n",
       "      <td>12.46</td>\n",
       "      <td>24.04</td>\n",
       "      <td>83.97</td>\n",
       "      <td>475.9</td>\n",
       "      <td>0.11860</td>\n",
       "      <td>0.23960</td>\n",
       "      <td>0.22730</td>\n",
       "      <td>0.08543</td>\n",
       "      <td>0.2030</td>\n",
       "      <td>0.08243</td>\n",
       "      <td>...</td>\n",
       "      <td>40.68</td>\n",
       "      <td>97.65</td>\n",
       "      <td>711.4</td>\n",
       "      <td>0.1853</td>\n",
       "      <td>1.0580</td>\n",
       "      <td>1.1050</td>\n",
       "      <td>0.2210</td>\n",
       "      <td>0.4366</td>\n",
       "      <td>0.20750</td>\n",
       "      <td>0</td>\n",
       "    </tr>\n",
       "  </tbody>\n",
       "</table>\n",
       "<p>10 rows × 31 columns</p>\n",
       "</div>"
      ],
      "text/plain": [
       "   mean radius  mean texture  mean perimeter  mean area  mean smoothness  \\\n",
       "0        17.99         10.38          122.80     1001.0          0.11840   \n",
       "1        20.57         17.77          132.90     1326.0          0.08474   \n",
       "2        19.69         21.25          130.00     1203.0          0.10960   \n",
       "3        11.42         20.38           77.58      386.1          0.14250   \n",
       "4        20.29         14.34          135.10     1297.0          0.10030   \n",
       "5        12.45         15.70           82.57      477.1          0.12780   \n",
       "6        18.25         19.98          119.60     1040.0          0.09463   \n",
       "7        13.71         20.83           90.20      577.9          0.11890   \n",
       "8        13.00         21.82           87.50      519.8          0.12730   \n",
       "9        12.46         24.04           83.97      475.9          0.11860   \n",
       "\n",
       "   mean compactness  mean concavity  mean concave points  mean symmetry  \\\n",
       "0           0.27760         0.30010              0.14710         0.2419   \n",
       "1           0.07864         0.08690              0.07017         0.1812   \n",
       "2           0.15990         0.19740              0.12790         0.2069   \n",
       "3           0.28390         0.24140              0.10520         0.2597   \n",
       "4           0.13280         0.19800              0.10430         0.1809   \n",
       "5           0.17000         0.15780              0.08089         0.2087   \n",
       "6           0.10900         0.11270              0.07400         0.1794   \n",
       "7           0.16450         0.09366              0.05985         0.2196   \n",
       "8           0.19320         0.18590              0.09353         0.2350   \n",
       "9           0.23960         0.22730              0.08543         0.2030   \n",
       "\n",
       "   mean fractal dimension  ...  worst texture  worst perimeter  worst area  \\\n",
       "0                 0.07871  ...          17.33           184.60      2019.0   \n",
       "1                 0.05667  ...          23.41           158.80      1956.0   \n",
       "2                 0.05999  ...          25.53           152.50      1709.0   \n",
       "3                 0.09744  ...          26.50            98.87       567.7   \n",
       "4                 0.05883  ...          16.67           152.20      1575.0   \n",
       "5                 0.07613  ...          23.75           103.40       741.6   \n",
       "6                 0.05742  ...          27.66           153.20      1606.0   \n",
       "7                 0.07451  ...          28.14           110.60       897.0   \n",
       "8                 0.07389  ...          30.73           106.20       739.3   \n",
       "9                 0.08243  ...          40.68            97.65       711.4   \n",
       "\n",
       "   worst smoothness  worst compactness  worst concavity  worst concave points  \\\n",
       "0            0.1622             0.6656           0.7119                0.2654   \n",
       "1            0.1238             0.1866           0.2416                0.1860   \n",
       "2            0.1444             0.4245           0.4504                0.2430   \n",
       "3            0.2098             0.8663           0.6869                0.2575   \n",
       "4            0.1374             0.2050           0.4000                0.1625   \n",
       "5            0.1791             0.5249           0.5355                0.1741   \n",
       "6            0.1442             0.2576           0.3784                0.1932   \n",
       "7            0.1654             0.3682           0.2678                0.1556   \n",
       "8            0.1703             0.5401           0.5390                0.2060   \n",
       "9            0.1853             1.0580           1.1050                0.2210   \n",
       "\n",
       "   worst symmetry  worst fractal dimension  target  \n",
       "0          0.4601                  0.11890       0  \n",
       "1          0.2750                  0.08902       0  \n",
       "2          0.3613                  0.08758       0  \n",
       "3          0.6638                  0.17300       0  \n",
       "4          0.2364                  0.07678       0  \n",
       "5          0.3985                  0.12440       0  \n",
       "6          0.3063                  0.08368       0  \n",
       "7          0.3196                  0.11510       0  \n",
       "8          0.4378                  0.10720       0  \n",
       "9          0.4366                  0.20750       0  \n",
       "\n",
       "[10 rows x 31 columns]"
      ]
     },
     "execution_count": 2,
     "metadata": {},
     "output_type": "execute_result"
    }
   ],
   "source": [
    "df_data_breast_cancer = data_breast_cancer.frame\n",
    "df_data_breast_cancer.head(10)"
   ]
  },
  {
   "cell_type": "code",
   "execution_count": 3,
   "id": "b1c29d9b-c06a-4d48-94c9-9b7eaf3bc143",
   "metadata": {},
   "outputs": [],
   "source": [
    "from sklearn.model_selection import train_test_split\n",
    "\n",
    "X = df_data_breast_cancer.iloc[:,:-1]\n",
    "y = df_data_breast_cancer['target']\n",
    "X = X[[\"mean texture\", \"mean symmetry\"]]\n",
    "X_train, X_test, y_train, y_test = train_test_split(X, y, test_size=0.2, shuffle = True)\n",
    "\n",
    "results_list = []\n",
    "models_list = []"
   ]
  },
  {
   "cell_type": "markdown",
   "id": "31d0bb54-ddf3-45af-b751-87e4e1e24c9d",
   "metadata": {},
   "source": [
    "# 2. Base Classifiers and Voting Ensembles\n",
    "\n",
    "## We start by training three basic classifiers:\n",
    "\n",
    "\n",
    "**k-Nearest Neighbors (k-NN)**"
   ]
  },
  {
   "cell_type": "code",
   "execution_count": 4,
   "id": "fff828fe-66be-47d7-8677-d19d282508e0",
   "metadata": {},
   "outputs": [
    {
     "name": "stdout",
     "output_type": "stream",
     "text": [
      "0.7824175824175824\n",
      "0.6403508771929824\n"
     ]
    }
   ],
   "source": [
    "import sklearn.neighbors\n",
    "from sklearn.metrics import accuracy_score\n",
    "\n",
    "knn_5_clf = sklearn.neighbors.KNeighborsClassifier() # n_neighbors = 5 by default\n",
    "knn_5_clf.fit(X_train, y_train)\n",
    "\n",
    "y_train_pred = knn_5_clf.predict(X_train)\n",
    "y_test_pred = knn_5_clf.predict(X_test)\n",
    "acc_train = accuracy_score(y_train_pred, y_train)\n",
    "acc_test = accuracy_score(y_test_pred, y_test)\n",
    "print(acc_train)\n",
    "print(acc_test)\n",
    "\n",
    "results_list.append((acc_train, acc_test))\n",
    "models_list.append(knn_5_clf)"
   ]
  },
  {
   "cell_type": "markdown",
   "id": "c0cd1691-72a2-4344-b2c4-e39aa23ffef3",
   "metadata": {},
   "source": [
    "**Decision Tree**"
   ]
  },
  {
   "cell_type": "code",
   "execution_count": 5,
   "id": "682b3e73-e69c-4016-8d8d-bf20e59a1e98",
   "metadata": {},
   "outputs": [
    {
     "name": "stdout",
     "output_type": "stream",
     "text": [
      "1.0\n",
      "0.6578947368421053\n"
     ]
    }
   ],
   "source": [
    "from sklearn.tree import DecisionTreeClassifier\n",
    "\n",
    "tree_clf = DecisionTreeClassifier() # by default max_depth is as big as possible (till improvement in split clarity improves)\n",
    "tree_clf.fit(X_train, y_train) \n",
    "\n",
    "y_train_pred = tree_clf.predict(X_train)\n",
    "y_test_pred = tree_clf.predict(X_test)\n",
    "acc_train = accuracy_score(y_train_pred, y_train)\n",
    "acc_test = accuracy_score(y_test_pred, y_test)\n",
    "print(acc_train)\n",
    "print(acc_test)\n",
    "\n",
    "results_list.append((acc_train, acc_test))\n",
    "models_list.append(tree_clf)"
   ]
  },
  {
   "cell_type": "markdown",
   "id": "0ebc905a-1ff8-4cb8-9280-3c7f1f3b585c",
   "metadata": {},
   "source": [
    "**Logistic Regression**"
   ]
  },
  {
   "cell_type": "code",
   "execution_count": 6,
   "id": "2696a118-c837-4e73-99b3-f1d584546366",
   "metadata": {},
   "outputs": [
    {
     "name": "stdout",
     "output_type": "stream",
     "text": [
      "0.7054945054945055\n",
      "0.7368421052631579\n"
     ]
    }
   ],
   "source": [
    "from sklearn.linear_model import LogisticRegression\n",
    "\n",
    "log_clf = LogisticRegression() # default = 'lbfgs'\n",
    "log_clf.fit(X_train, y_train) \n",
    "\n",
    "y_train_pred = log_clf.predict(X_train)\n",
    "y_test_pred = log_clf.predict(X_test)\n",
    "acc_train = accuracy_score(y_train_pred, y_train)\n",
    "acc_test = accuracy_score(y_test_pred, y_test)\n",
    "print(acc_train)\n",
    "print(acc_test)\n",
    "\n",
    "results_list.append((acc_train, acc_test))\n",
    "models_list.append(log_clf)"
   ]
  },
  {
   "cell_type": "markdown",
   "id": "4a5ebc9f-6c71-462f-90e1-bb6f9bc51916",
   "metadata": {},
   "source": [
    "## We then build two voting classifiers:"
   ]
  },
  {
   "cell_type": "markdown",
   "id": "9436c927-15ef-48cb-a227-4d84a48b95b2",
   "metadata": {},
   "source": [
    "**Hard voting: predicts the class label that gets the most votes.**"
   ]
  },
  {
   "cell_type": "code",
   "execution_count": 7,
   "id": "619256ed-21c2-4f3e-98a3-305d5943476f",
   "metadata": {},
   "outputs": [
    {
     "name": "stdout",
     "output_type": "stream",
     "text": [
      "0.8483516483516483\n",
      "0.6754385964912281\n"
     ]
    }
   ],
   "source": [
    "from sklearn.ensemble import VotingClassifier\n",
    "from sklearn.tree import DecisionTreeClassifier\n",
    "from sklearn.linear_model import LogisticRegression\n",
    "from sklearn.neighbors import KNeighborsClassifier\n",
    "\n",
    "\n",
    "log_clf = LogisticRegression()\n",
    "tree_clf = DecisionTreeClassifier()\n",
    "knn_5_clf = KNeighborsClassifier()\n",
    "\n",
    "voting_clf = VotingClassifier(\n",
    "    estimators=[('lr', log_clf),\n",
    "                ('tc', tree_clf),\n",
    "                ('svc', knn_5_clf)],\n",
    "    voting='hard')\n",
    "\n",
    "voting_clf.fit(X_train, y_train)\n",
    "\n",
    "\n",
    "y_train_pred = voting_clf.predict(X_train)\n",
    "y_test_pred = voting_clf.predict(X_test)\n",
    "acc_train = accuracy_score(y_train_pred, y_train)\n",
    "acc_test = accuracy_score(y_test_pred, y_test)\n",
    "print(acc_train)\n",
    "print(acc_test)\n",
    "\n",
    "results_list.append((acc_train, acc_test))\n",
    "models_list.append(voting_clf)"
   ]
  },
  {
   "cell_type": "markdown",
   "id": "a40a8004-45a6-4dd7-b6ca-c5dde719a72b",
   "metadata": {},
   "source": [
    "**Soft voting: averages the predicted class probabilities.**"
   ]
  },
  {
   "cell_type": "code",
   "execution_count": 8,
   "id": "41ac73f8-89fd-4162-a0b9-f70f66646eef",
   "metadata": {},
   "outputs": [
    {
     "name": "stdout",
     "output_type": "stream",
     "text": [
      "0.967032967032967\n",
      "0.6578947368421053\n"
     ]
    }
   ],
   "source": [
    "from sklearn.ensemble import VotingClassifier\n",
    "from sklearn.tree import DecisionTreeClassifier\n",
    "from sklearn.linear_model import LogisticRegression\n",
    "from sklearn.neighbors import KNeighborsClassifier\n",
    "\n",
    "\n",
    "log_clf = LogisticRegression()\n",
    "tree_clf = DecisionTreeClassifier()\n",
    "knn_5_clf = KNeighborsClassifier()\n",
    "\n",
    "voting_clf = VotingClassifier(\n",
    "    estimators=[('lr', log_clf),\n",
    "                ('tc', tree_clf),\n",
    "                ('svc', knn_5_clf)],\n",
    "    voting='soft')\n",
    "\n",
    "voting_clf.fit(X_train, y_train)\n",
    "\n",
    "\n",
    "y_train_pred = voting_clf.predict(X_train)\n",
    "y_test_pred = voting_clf.predict(X_test)\n",
    "acc_train = accuracy_score(y_train_pred, y_train)\n",
    "acc_test = accuracy_score(y_test_pred, y_test)\n",
    "print(acc_train)\n",
    "print(acc_test)\n",
    "\n",
    "results_list.append((acc_train, acc_test))\n",
    "models_list.append(voting_clf)"
   ]
  },
  {
   "cell_type": "markdown",
   "id": "0fc650e5-083d-4303-a49a-f19602755b47",
   "metadata": {},
   "source": [
    "## 🧾 Summary of Base Classifiers and Voting Ensemble Results\n",
    "\n",
    "After training and evaluating individual classifiers and their ensemble combinations, we observed the following:\n",
    "\n",
    "- The individual classifiers (Decision Tree, Logistic Regression, k-NN) performed moderately well on their own.\n",
    "- The **Hard Voting** ensemble often outperforms the worst individual models by relying on majority consensus.\n",
    "- The **Soft Voting** ensemble generally yields the best performance, as it takes into account the prediction confidence (probabilities) of each model.\n",
    "\n",
    "These results demonstrate the power of ensemble learning — **aggregating multiple models helps reduce variance and improve generalization**, especially when the models are diverse and make different kinds of errors.\n"
   ]
  },
  {
   "cell_type": "markdown",
   "id": "2eff0185-9951-41c4-ac95-1def0658fc89",
   "metadata": {},
   "source": [
    "**saving the results to pickle file**"
   ]
  },
  {
   "cell_type": "code",
   "execution_count": 9,
   "id": "b9e59a78-7df2-4b90-93ed-f5f0ed4078c5",
   "metadata": {},
   "outputs": [],
   "source": [
    "import pickle\n",
    "\n",
    "with open('acc_vote.pkl', 'wb') as f:\n",
    "    pickle.dump(results_list, f)\n",
    "\n",
    "with open('vote.pkl', 'wb') as f:\n",
    "    pickle.dump(models_list, f)  "
   ]
  },
  {
   "cell_type": "markdown",
   "id": "e81327cc-dc88-4797-b754-b83f7c07bc9b",
   "metadata": {},
   "source": [
    "# 3. Random Forests and Boosting algorithms"
   ]
  },
  {
   "cell_type": "markdown",
   "id": "ca90acf4-39dc-42e7-bd3e-3457712d80f1",
   "metadata": {},
   "source": [
    "##  Bagging, Pasting and Random Forest – Parallel Ensemble Methods\n",
    "\n",
    "### Now we train several ensemble models based on **parallel aggregation of multiple estimators**, using Decision Trees as the base learners:"
   ]
  },
  {
   "cell_type": "markdown",
   "id": "e3c2659f-eeba-43e4-81a0-f26e243bb0d3",
   "metadata": {},
   "source": [
    "**Bagging (Bootstrap Aggregating): trains each tree on a random subset of the training data with replacement**"
   ]
  },
  {
   "cell_type": "code",
   "execution_count": 10,
   "id": "95896c66-0f15-441b-bf9f-7831ea6004a6",
   "metadata": {},
   "outputs": [
    {
     "name": "stdout",
     "output_type": "stream",
     "text": [
      "0.9978021978021978\n",
      "0.6754385964912281\n"
     ]
    }
   ],
   "source": [
    "from sklearn.ensemble import BaggingClassifier\n",
    "from sklearn.tree import DecisionTreeClassifier\n",
    "\n",
    "results_list = []\n",
    "models_list = []\n",
    "\n",
    "\n",
    "# DecisionTreeClassifier(), n_estimators=500, max_samples=100, bootstrap=True, random_state=42\n",
    "bag_clf = BaggingClassifier(DecisionTreeClassifier(), n_estimators=30) #by defualt bootstrap = True\n",
    "bag_clf.fit(X_train, y_train)\n",
    "\n",
    "y_train_pred = bag_clf.predict(X_train)\n",
    "y_test_pred = bag_clf.predict(X_test)\n",
    "acc_train = accuracy_score(y_train_pred, y_train)\n",
    "acc_test = accuracy_score(y_test_pred, y_test)\n",
    "\n",
    "print(acc_train)\n",
    "print(acc_test)\n",
    "\n",
    "results_list.append((acc_train, acc_test))\n",
    "models_list.append(bag_clf)"
   ]
  },
  {
   "cell_type": "markdown",
   "id": "fc0a0c72-8c22-4ed1-bb43-43ff70bd8ecc",
   "metadata": {},
   "source": [
    "**Bagging (50%): similar to standard Bagging but uses only 50% of the data per tree**"
   ]
  },
  {
   "cell_type": "code",
   "execution_count": 11,
   "id": "53008aa1-da35-4bd4-8368-52c3252731af",
   "metadata": {},
   "outputs": [
    {
     "name": "stdout",
     "output_type": "stream",
     "text": [
      "0.9208791208791208\n",
      "0.6929824561403509\n"
     ]
    }
   ],
   "source": [
    "from sklearn.ensemble import BaggingClassifier\n",
    "from sklearn.tree import DecisionTreeClassifier\n",
    "\n",
    "# DecisionTreeClassifier(), n_estimators=500, max_samples=100, bootstrap=True, random_state=42\n",
    "bag_clf = BaggingClassifier(DecisionTreeClassifier(), n_estimators=30, max_samples = 0.5) #by defualt bootstrap = True\n",
    "bag_clf.fit(X_train, y_train)\n",
    "\n",
    "y_train_pred = bag_clf.predict(X_train)\n",
    "y_test_pred = bag_clf.predict(X_test)\n",
    "acc_train = accuracy_score(y_train_pred, y_train)\n",
    "acc_test = accuracy_score(y_test_pred, y_test)\n",
    "\n",
    "print(acc_train)\n",
    "print(acc_test)\n",
    "\n",
    "results_list.append((acc_train, acc_test))\n",
    "models_list.append(bag_clf)"
   ]
  },
  {
   "cell_type": "markdown",
   "id": "f43fae16-b80f-437e-b610-d40323b9399b",
   "metadata": {},
   "source": [
    "**Pasting: same as Bagging but the data subsets are sampled without replacement**"
   ]
  },
  {
   "cell_type": "code",
   "execution_count": 12,
   "id": "ef1d336c-d5a5-46f5-b5d9-7e4eb8fd69cf",
   "metadata": {},
   "outputs": [
    {
     "name": "stdout",
     "output_type": "stream",
     "text": [
      "1.0\n",
      "0.6578947368421053\n"
     ]
    }
   ],
   "source": [
    "from sklearn.ensemble import BaggingClassifier\n",
    "from sklearn.tree import DecisionTreeClassifier\n",
    "\n",
    "# DecisionTreeClassifier(), n_estimators=500, max_samples=100, bootstrap=True, random_state=42\n",
    "bag_clf = BaggingClassifier(DecisionTreeClassifier(), n_estimators=30, bootstrap = False) #by defualt bootstrap = True\n",
    "bag_clf.fit(X_train, y_train)\n",
    "\n",
    "y_train_pred = bag_clf.predict(X_train)\n",
    "y_test_pred = bag_clf.predict(X_test)\n",
    "acc_train = accuracy_score(y_train_pred, y_train)\n",
    "acc_test = accuracy_score(y_test_pred, y_test)\n",
    "\n",
    "print(acc_train)\n",
    "print(acc_test)\n",
    "\n",
    "results_list.append((acc_train, acc_test))\n",
    "models_list.append(bag_clf)"
   ]
  },
  {
   "cell_type": "markdown",
   "id": "09a1da6f-af7d-4788-9b49-af9b5e48d63f",
   "metadata": {},
   "source": [
    "**Pasting (50%): Pasting using only 50% of the data per tree**"
   ]
  },
  {
   "cell_type": "code",
   "execution_count": 13,
   "id": "42df9c38-a45a-4ac4-ae41-d3036e9b204c",
   "metadata": {},
   "outputs": [
    {
     "name": "stdout",
     "output_type": "stream",
     "text": [
      "0.9626373626373627\n",
      "0.6754385964912281\n"
     ]
    }
   ],
   "source": [
    "from sklearn.ensemble import BaggingClassifier\n",
    "from sklearn.tree import DecisionTreeClassifier\n",
    "\n",
    "# DecisionTreeClassifier(), n_estimators=500, max_samples=100, bootstrap=True, random_state=42\n",
    "bag_clf = BaggingClassifier(DecisionTreeClassifier(), n_estimators=30, max_samples = 0.5, bootstrap = False) #by defualt bootstrap = True\n",
    "bag_clf.fit(X_train, y_train)\n",
    "\n",
    "y_train_pred = bag_clf.predict(X_train)\n",
    "y_test_pred = bag_clf.predict(X_test)\n",
    "acc_train = accuracy_score(y_train_pred, y_train)\n",
    "acc_test = accuracy_score(y_test_pred, y_test)\n",
    "\n",
    "print(acc_train)\n",
    "print(acc_test)\n",
    "\n",
    "results_list.append((acc_train, acc_test))\n",
    "models_list.append(bag_clf)"
   ]
  },
  {
   "cell_type": "markdown",
   "id": "f23aa43a-fab6-4fba-8463-490d9d6969d4",
   "metadata": {},
   "source": [
    "**Random Forest: an extension of Bagging where, in addition to bootstrapping samples, each split in the tree considers only a random subset of features**  \n",
    "Trees in Random Forest choose the best feautre-split but only based on the currently chosen (randomly) subset of features\n"
   ]
  },
  {
   "cell_type": "code",
   "execution_count": 14,
   "id": "c4a2b46c-0d43-4c97-92e0-d7109d12483e",
   "metadata": {},
   "outputs": [
    {
     "name": "stdout",
     "output_type": "stream",
     "text": [
      "0.9978021978021978\n",
      "0.6666666666666666\n"
     ]
    }
   ],
   "source": [
    "from sklearn.ensemble import RandomForestClassifier\n",
    "\n",
    "# n_estimators=500, max_leaf_nodes=16, random_state=42\n",
    "rnd_clf = RandomForestClassifier(n_estimators=30) # by default, max_samples = 1.0, boostrap = True,  n_jobs = -1\n",
    "rnd_clf.fit(X_train, y_train)\n",
    "\n",
    "y_train_pred = rnd_clf.predict(X_train)\n",
    "y_test_pred = rnd_clf.predict(X_test)\n",
    "acc_train = accuracy_score(y_train_pred, y_train)\n",
    "acc_test = accuracy_score(y_test_pred, y_test)\n",
    "\n",
    "print(acc_train)\n",
    "print(acc_test)\n",
    "\n",
    "results_list.append((acc_train, acc_test))\n",
    "models_list.append(rnd_clf)"
   ]
  },
  {
   "cell_type": "markdown",
   "id": "a0e457c6-455c-4781-af23-833c1aa26b71",
   "metadata": {},
   "source": [
    "### These methods aim to **reduce model variance** by averaging predictions from weak learners trained on different data subsets. This makes the final model more robust and less prone to overfitting."
   ]
  },
  {
   "cell_type": "markdown",
   "id": "21eb95cc-9979-450b-ae50-c81450b699b1",
   "metadata": {},
   "source": [
    "##  AdaBoost and Gradient Boosting – Sequential Ensemble Methods\n",
    "\n",
    "Next, we apply **boosting** techniques, which combine multiple weak learners trained sequentially:"
   ]
  },
  {
   "cell_type": "markdown",
   "id": "138dddd7-2c1f-41a4-bb2c-0638bb01a398",
   "metadata": {},
   "source": [
    "**AdaBoost: focuses on the samples that were misclassified by previous estimators. It adjusts the weights of training examples to prioritize harder cases.**"
   ]
  },
  {
   "cell_type": "code",
   "execution_count": 15,
   "id": "b347ccb5-d43f-4369-807f-fa245d88ea2b",
   "metadata": {},
   "outputs": [
    {
     "name": "stdout",
     "output_type": "stream",
     "text": [
      "1.0\n",
      "0.6578947368421053\n"
     ]
    },
    {
     "name": "stderr",
     "output_type": "stream",
     "text": [
      "/home/ppaczek04/miniconda3/envs/um_env/lib/python3.11/site-packages/sklearn/ensemble/_weight_boosting.py:527: FutureWarning: The SAMME.R algorithm (the default) is deprecated and will be removed in 1.6. Use the SAMME algorithm to circumvent this warning.\n",
      "  warnings.warn(\n"
     ]
    }
   ],
   "source": [
    "from sklearn.ensemble import AdaBoostClassifier\n",
    "\n",
    "ada_clf = AdaBoostClassifier(DecisionTreeClassifier(), n_estimators= 30)\n",
    "ada_clf.fit(X_train, y_train)\n",
    "            \n",
    "y_train_pred = ada_clf.predict(X_train)\n",
    "y_test_pred = ada_clf.predict(X_test)\n",
    "acc_train = accuracy_score(y_train_pred, y_train)\n",
    "acc_test = accuracy_score(y_test_pred, y_test)\n",
    "\n",
    "print(acc_train)\n",
    "print(acc_test)\n",
    "\n",
    "results_list.append((acc_train, acc_test))\n",
    "models_list.append(ada_clf)"
   ]
  },
  {
   "cell_type": "markdown",
   "id": "e1d79c65-a7f4-4b38-a4c3-9eaeecc02ac0",
   "metadata": {},
   "source": [
    "**Gradient Boosting: fits each new estimator to the residual errors of the current model using gradient descent. Each tree attempts to correct the mistakes of the entire ensemble so far.**"
   ]
  },
  {
   "cell_type": "code",
   "execution_count": 16,
   "id": "0f53fbdc-ec80-4307-ab39-f7449a4e1c55",
   "metadata": {},
   "outputs": [
    {
     "name": "stdout",
     "output_type": "stream",
     "text": [
      "0.8263736263736263\n",
      "0.7105263157894737\n"
     ]
    }
   ],
   "source": [
    "from sklearn.ensemble import GradientBoostingClassifier\n",
    "\n",
    "gbrt_clf = GradientBoostingClassifier(n_estimators= 30) # uses decision trees (only)\n",
    "gbrt_clf.fit(X_train, y_train)\n",
    "            \n",
    "y_train_pred = gbrt_clf.predict(X_train)\n",
    "y_test_pred = gbrt_clf.predict(X_test)\n",
    "acc_train = accuracy_score(y_train_pred, y_train)\n",
    "acc_test = accuracy_score(y_test_pred, y_test)\n",
    "\n",
    "print(acc_train)\n",
    "print(acc_test)\n",
    "\n",
    "results_list.append((acc_train, acc_test))\n",
    "models_list.append(gbrt_clf)"
   ]
  },
  {
   "cell_type": "markdown",
   "id": "810597aa-5915-4cbf-873a-ea57d20f7207",
   "metadata": {},
   "source": [
    "**Boosting** methods are powerful for achieving **high accuracy** by focusing on hard-to-predict examples.\n",
    "- Both **AdaBoost** and **Gradient Boosting** reduce **bias** but are more sensitive to **noise** compared to methods like Random Forest.\n",
    "- They require careful **hyperparameter tuning**, especially in **Gradient Boosting**, to avoid overfitting and to optimize performance."
   ]
  },
  {
   "cell_type": "markdown",
   "id": "03d0b0ea-eef3-4227-aa71-369b6e74cd6f",
   "metadata": {},
   "source": [
    "**saving the results to pickle file**"
   ]
  },
  {
   "cell_type": "code",
   "execution_count": 17,
   "id": "e3e9d2f5-b796-4e34-889f-0a6cab28156a",
   "metadata": {},
   "outputs": [],
   "source": [
    "import pickle\n",
    "\n",
    "with open('acc_bag.pkl', 'wb') as f:\n",
    "    pickle.dump(results_list, f)\n",
    "\n",
    "with open('bag.pkl', 'wb') as f:\n",
    "    pickle.dump(models_list, f)"
   ]
  },
  {
   "cell_type": "markdown",
   "id": "8dc9fa07-d3b3-4441-a16b-3d5d162030f3",
   "metadata": {},
   "source": [
    "## Feature Sampling in Bagging"
   ]
  },
  {
   "cell_type": "markdown",
   "id": "7b5c95ed-d6d6-42e6-9c2f-09c442e2ba96",
   "metadata": {},
   "source": [
    "The **`max_features`** parameter is a crucial tool for increasing the independence of the trees in the ensemble. By randomly selecting different subsets of features, we ensure that the trees do not learn the same decision rules, improving the robustness of the overall model."
   ]
  },
  {
   "cell_type": "code",
   "execution_count": 18,
   "id": "5f760d1c-4bfa-4291-a9b3-f753a3152cd2",
   "metadata": {},
   "outputs": [
    {
     "name": "stdout",
     "output_type": "stream",
     "text": [
      "0.9934065934065934\n",
      "0.9298245614035088\n"
     ]
    }
   ],
   "source": [
    "from sklearn.model_selection import train_test_split\n",
    "\n",
    "X = df_data_breast_cancer.iloc[:,:-1]\n",
    "y = df_data_breast_cancer['target']\n",
    "X_train, X_test, y_train, y_test = train_test_split(X, y, test_size=0.2, shuffle = True)\n",
    "\n",
    "from sklearn.ensemble import BaggingClassifier\n",
    "from sklearn.tree import DecisionTreeClassifier\n",
    "\n",
    "bag_clf = BaggingClassifier(\n",
    "    DecisionTreeClassifier(),\n",
    "    n_estimators=30,\n",
    "    max_samples=0.5,      # half of data for every tree\n",
    "    bootstrap=True,       # samples chosen with repetition (data sample can be chosen twice for the same tree)\n",
    "    max_features=2,       # decision tree can split by only two of randomly chosen features before tree creation (instead of all, as by default)\n",
    "    bootstrap_features=False,  # decisive-features chosen with repetition (decisive-features can be chosen twice for the same tree)\n",
    ")\n",
    "bag_clf.fit(X_train, y_train)  \n",
    "\n",
    "y_train_pred = bag_clf.predict(X_train)\n",
    "y_test_pred = bag_clf.predict(X_test)\n",
    "acc_train = accuracy_score(y_train_pred, y_train)\n",
    "acc_test = accuracy_score(y_test_pred, y_test)\n",
    "\n",
    "print(acc_train)\n",
    "print(acc_test)\n",
    "\n",
    "results_list = []\n",
    "models_list = []\n",
    "\n",
    "results_list.append(acc_train)\n",
    "results_list.append(acc_test)\n",
    "models_list.append(bag_clf)"
   ]
  },
  {
   "cell_type": "markdown",
   "id": "7e7bc7cd-9b44-403b-b9ca-3810652ac6bd",
   "metadata": {},
   "source": [
    "**saving the results to pickle file**"
   ]
  },
  {
   "cell_type": "code",
   "execution_count": 19,
   "id": "b61889b0-10c9-420f-81b4-f08e57cfc31b",
   "metadata": {},
   "outputs": [],
   "source": [
    "import pickle\n",
    "\n",
    "with open('acc_fea.pkl', 'wb') as f:\n",
    "    pickle.dump(results_list, f)\n",
    "\n",
    "with open('fea.pkl', 'wb') as f:\n",
    "    pickle.dump(models_list, f) "
   ]
  },
  {
   "cell_type": "markdown",
   "id": "329dbf06-765b-460c-a733-97e4fca98612",
   "metadata": {},
   "source": [
    "In this part of the code, we are evaluating each individual estimator within the Bagging ensemble. Specifically, we look at:\n",
    "\n",
    "1. **Selected Features**: For each estimator, we identify which features were selected for training the decision tree.\n",
    "2. **Training and Testing Accuracy**: For each tree, we calculate the accuracy on both the training and test sets based on the selected features."
   ]
  },
  {
   "cell_type": "code",
   "execution_count": 20,
   "id": "0e643011-8862-4087-ab9a-0520fb0ee550",
   "metadata": {},
   "outputs": [
    {
     "name": "stderr",
     "output_type": "stream",
     "text": [
      "/home/ppaczek04/miniconda3/envs/um_env/lib/python3.11/site-packages/sklearn/base.py:486: UserWarning: X has feature names, but DecisionTreeClassifier was fitted without feature names\n",
      "  warnings.warn(\n",
      "/home/ppaczek04/miniconda3/envs/um_env/lib/python3.11/site-packages/sklearn/base.py:486: UserWarning: X has feature names, but DecisionTreeClassifier was fitted without feature names\n",
      "  warnings.warn(\n",
      "/home/ppaczek04/miniconda3/envs/um_env/lib/python3.11/site-packages/sklearn/base.py:486: UserWarning: X has feature names, but DecisionTreeClassifier was fitted without feature names\n",
      "  warnings.warn(\n",
      "/home/ppaczek04/miniconda3/envs/um_env/lib/python3.11/site-packages/sklearn/base.py:486: UserWarning: X has feature names, but DecisionTreeClassifier was fitted without feature names\n",
      "  warnings.warn(\n",
      "/home/ppaczek04/miniconda3/envs/um_env/lib/python3.11/site-packages/sklearn/base.py:486: UserWarning: X has feature names, but DecisionTreeClassifier was fitted without feature names\n",
      "  warnings.warn(\n",
      "/home/ppaczek04/miniconda3/envs/um_env/lib/python3.11/site-packages/sklearn/base.py:486: UserWarning: X has feature names, but DecisionTreeClassifier was fitted without feature names\n",
      "  warnings.warn(\n",
      "/home/ppaczek04/miniconda3/envs/um_env/lib/python3.11/site-packages/sklearn/base.py:486: UserWarning: X has feature names, but DecisionTreeClassifier was fitted without feature names\n",
      "  warnings.warn(\n",
      "/home/ppaczek04/miniconda3/envs/um_env/lib/python3.11/site-packages/sklearn/base.py:486: UserWarning: X has feature names, but DecisionTreeClassifier was fitted without feature names\n",
      "  warnings.warn(\n",
      "/home/ppaczek04/miniconda3/envs/um_env/lib/python3.11/site-packages/sklearn/base.py:486: UserWarning: X has feature names, but DecisionTreeClassifier was fitted without feature names\n",
      "  warnings.warn(\n",
      "/home/ppaczek04/miniconda3/envs/um_env/lib/python3.11/site-packages/sklearn/base.py:486: UserWarning: X has feature names, but DecisionTreeClassifier was fitted without feature names\n",
      "  warnings.warn(\n",
      "/home/ppaczek04/miniconda3/envs/um_env/lib/python3.11/site-packages/sklearn/base.py:486: UserWarning: X has feature names, but DecisionTreeClassifier was fitted without feature names\n",
      "  warnings.warn(\n",
      "/home/ppaczek04/miniconda3/envs/um_env/lib/python3.11/site-packages/sklearn/base.py:486: UserWarning: X has feature names, but DecisionTreeClassifier was fitted without feature names\n",
      "  warnings.warn(\n",
      "/home/ppaczek04/miniconda3/envs/um_env/lib/python3.11/site-packages/sklearn/base.py:486: UserWarning: X has feature names, but DecisionTreeClassifier was fitted without feature names\n",
      "  warnings.warn(\n",
      "/home/ppaczek04/miniconda3/envs/um_env/lib/python3.11/site-packages/sklearn/base.py:486: UserWarning: X has feature names, but DecisionTreeClassifier was fitted without feature names\n",
      "  warnings.warn(\n",
      "/home/ppaczek04/miniconda3/envs/um_env/lib/python3.11/site-packages/sklearn/base.py:486: UserWarning: X has feature names, but DecisionTreeClassifier was fitted without feature names\n",
      "  warnings.warn(\n",
      "/home/ppaczek04/miniconda3/envs/um_env/lib/python3.11/site-packages/sklearn/base.py:486: UserWarning: X has feature names, but DecisionTreeClassifier was fitted without feature names\n",
      "  warnings.warn(\n",
      "/home/ppaczek04/miniconda3/envs/um_env/lib/python3.11/site-packages/sklearn/base.py:486: UserWarning: X has feature names, but DecisionTreeClassifier was fitted without feature names\n",
      "  warnings.warn(\n",
      "/home/ppaczek04/miniconda3/envs/um_env/lib/python3.11/site-packages/sklearn/base.py:486: UserWarning: X has feature names, but DecisionTreeClassifier was fitted without feature names\n",
      "  warnings.warn(\n",
      "/home/ppaczek04/miniconda3/envs/um_env/lib/python3.11/site-packages/sklearn/base.py:486: UserWarning: X has feature names, but DecisionTreeClassifier was fitted without feature names\n",
      "  warnings.warn(\n",
      "/home/ppaczek04/miniconda3/envs/um_env/lib/python3.11/site-packages/sklearn/base.py:486: UserWarning: X has feature names, but DecisionTreeClassifier was fitted without feature names\n",
      "  warnings.warn(\n",
      "/home/ppaczek04/miniconda3/envs/um_env/lib/python3.11/site-packages/sklearn/base.py:486: UserWarning: X has feature names, but DecisionTreeClassifier was fitted without feature names\n",
      "  warnings.warn(\n",
      "/home/ppaczek04/miniconda3/envs/um_env/lib/python3.11/site-packages/sklearn/base.py:486: UserWarning: X has feature names, but DecisionTreeClassifier was fitted without feature names\n",
      "  warnings.warn(\n",
      "/home/ppaczek04/miniconda3/envs/um_env/lib/python3.11/site-packages/sklearn/base.py:486: UserWarning: X has feature names, but DecisionTreeClassifier was fitted without feature names\n",
      "  warnings.warn(\n",
      "/home/ppaczek04/miniconda3/envs/um_env/lib/python3.11/site-packages/sklearn/base.py:486: UserWarning: X has feature names, but DecisionTreeClassifier was fitted without feature names\n",
      "  warnings.warn(\n",
      "/home/ppaczek04/miniconda3/envs/um_env/lib/python3.11/site-packages/sklearn/base.py:486: UserWarning: X has feature names, but DecisionTreeClassifier was fitted without feature names\n",
      "  warnings.warn(\n",
      "/home/ppaczek04/miniconda3/envs/um_env/lib/python3.11/site-packages/sklearn/base.py:486: UserWarning: X has feature names, but DecisionTreeClassifier was fitted without feature names\n",
      "  warnings.warn(\n",
      "/home/ppaczek04/miniconda3/envs/um_env/lib/python3.11/site-packages/sklearn/base.py:486: UserWarning: X has feature names, but DecisionTreeClassifier was fitted without feature names\n",
      "  warnings.warn(\n",
      "/home/ppaczek04/miniconda3/envs/um_env/lib/python3.11/site-packages/sklearn/base.py:486: UserWarning: X has feature names, but DecisionTreeClassifier was fitted without feature names\n",
      "  warnings.warn(\n",
      "/home/ppaczek04/miniconda3/envs/um_env/lib/python3.11/site-packages/sklearn/base.py:486: UserWarning: X has feature names, but DecisionTreeClassifier was fitted without feature names\n",
      "  warnings.warn(\n",
      "/home/ppaczek04/miniconda3/envs/um_env/lib/python3.11/site-packages/sklearn/base.py:486: UserWarning: X has feature names, but DecisionTreeClassifier was fitted without feature names\n",
      "  warnings.warn(\n",
      "/home/ppaczek04/miniconda3/envs/um_env/lib/python3.11/site-packages/sklearn/base.py:486: UserWarning: X has feature names, but DecisionTreeClassifier was fitted without feature names\n",
      "  warnings.warn(\n",
      "/home/ppaczek04/miniconda3/envs/um_env/lib/python3.11/site-packages/sklearn/base.py:486: UserWarning: X has feature names, but DecisionTreeClassifier was fitted without feature names\n",
      "  warnings.warn(\n",
      "/home/ppaczek04/miniconda3/envs/um_env/lib/python3.11/site-packages/sklearn/base.py:486: UserWarning: X has feature names, but DecisionTreeClassifier was fitted without feature names\n",
      "  warnings.warn(\n",
      "/home/ppaczek04/miniconda3/envs/um_env/lib/python3.11/site-packages/sklearn/base.py:486: UserWarning: X has feature names, but DecisionTreeClassifier was fitted without feature names\n",
      "  warnings.warn(\n",
      "/home/ppaczek04/miniconda3/envs/um_env/lib/python3.11/site-packages/sklearn/base.py:486: UserWarning: X has feature names, but DecisionTreeClassifier was fitted without feature names\n",
      "  warnings.warn(\n",
      "/home/ppaczek04/miniconda3/envs/um_env/lib/python3.11/site-packages/sklearn/base.py:486: UserWarning: X has feature names, but DecisionTreeClassifier was fitted without feature names\n",
      "  warnings.warn(\n",
      "/home/ppaczek04/miniconda3/envs/um_env/lib/python3.11/site-packages/sklearn/base.py:486: UserWarning: X has feature names, but DecisionTreeClassifier was fitted without feature names\n",
      "  warnings.warn(\n",
      "/home/ppaczek04/miniconda3/envs/um_env/lib/python3.11/site-packages/sklearn/base.py:486: UserWarning: X has feature names, but DecisionTreeClassifier was fitted without feature names\n",
      "  warnings.warn(\n",
      "/home/ppaczek04/miniconda3/envs/um_env/lib/python3.11/site-packages/sklearn/base.py:486: UserWarning: X has feature names, but DecisionTreeClassifier was fitted without feature names\n",
      "  warnings.warn(\n",
      "/home/ppaczek04/miniconda3/envs/um_env/lib/python3.11/site-packages/sklearn/base.py:486: UserWarning: X has feature names, but DecisionTreeClassifier was fitted without feature names\n",
      "  warnings.warn(\n",
      "/home/ppaczek04/miniconda3/envs/um_env/lib/python3.11/site-packages/sklearn/base.py:486: UserWarning: X has feature names, but DecisionTreeClassifier was fitted without feature names\n",
      "  warnings.warn(\n",
      "/home/ppaczek04/miniconda3/envs/um_env/lib/python3.11/site-packages/sklearn/base.py:486: UserWarning: X has feature names, but DecisionTreeClassifier was fitted without feature names\n",
      "  warnings.warn(\n",
      "/home/ppaczek04/miniconda3/envs/um_env/lib/python3.11/site-packages/sklearn/base.py:486: UserWarning: X has feature names, but DecisionTreeClassifier was fitted without feature names\n",
      "  warnings.warn(\n",
      "/home/ppaczek04/miniconda3/envs/um_env/lib/python3.11/site-packages/sklearn/base.py:486: UserWarning: X has feature names, but DecisionTreeClassifier was fitted without feature names\n",
      "  warnings.warn(\n",
      "/home/ppaczek04/miniconda3/envs/um_env/lib/python3.11/site-packages/sklearn/base.py:486: UserWarning: X has feature names, but DecisionTreeClassifier was fitted without feature names\n",
      "  warnings.warn(\n",
      "/home/ppaczek04/miniconda3/envs/um_env/lib/python3.11/site-packages/sklearn/base.py:486: UserWarning: X has feature names, but DecisionTreeClassifier was fitted without feature names\n",
      "  warnings.warn(\n",
      "/home/ppaczek04/miniconda3/envs/um_env/lib/python3.11/site-packages/sklearn/base.py:486: UserWarning: X has feature names, but DecisionTreeClassifier was fitted without feature names\n",
      "  warnings.warn(\n",
      "/home/ppaczek04/miniconda3/envs/um_env/lib/python3.11/site-packages/sklearn/base.py:486: UserWarning: X has feature names, but DecisionTreeClassifier was fitted without feature names\n",
      "  warnings.warn(\n",
      "/home/ppaczek04/miniconda3/envs/um_env/lib/python3.11/site-packages/sklearn/base.py:486: UserWarning: X has feature names, but DecisionTreeClassifier was fitted without feature names\n",
      "  warnings.warn(\n",
      "/home/ppaczek04/miniconda3/envs/um_env/lib/python3.11/site-packages/sklearn/base.py:486: UserWarning: X has feature names, but DecisionTreeClassifier was fitted without feature names\n",
      "  warnings.warn(\n",
      "/home/ppaczek04/miniconda3/envs/um_env/lib/python3.11/site-packages/sklearn/base.py:486: UserWarning: X has feature names, but DecisionTreeClassifier was fitted without feature names\n",
      "  warnings.warn(\n",
      "/home/ppaczek04/miniconda3/envs/um_env/lib/python3.11/site-packages/sklearn/base.py:486: UserWarning: X has feature names, but DecisionTreeClassifier was fitted without feature names\n",
      "  warnings.warn(\n",
      "/home/ppaczek04/miniconda3/envs/um_env/lib/python3.11/site-packages/sklearn/base.py:486: UserWarning: X has feature names, but DecisionTreeClassifier was fitted without feature names\n",
      "  warnings.warn(\n",
      "/home/ppaczek04/miniconda3/envs/um_env/lib/python3.11/site-packages/sklearn/base.py:486: UserWarning: X has feature names, but DecisionTreeClassifier was fitted without feature names\n",
      "  warnings.warn(\n",
      "/home/ppaczek04/miniconda3/envs/um_env/lib/python3.11/site-packages/sklearn/base.py:486: UserWarning: X has feature names, but DecisionTreeClassifier was fitted without feature names\n",
      "  warnings.warn(\n",
      "/home/ppaczek04/miniconda3/envs/um_env/lib/python3.11/site-packages/sklearn/base.py:486: UserWarning: X has feature names, but DecisionTreeClassifier was fitted without feature names\n",
      "  warnings.warn(\n",
      "/home/ppaczek04/miniconda3/envs/um_env/lib/python3.11/site-packages/sklearn/base.py:486: UserWarning: X has feature names, but DecisionTreeClassifier was fitted without feature names\n",
      "  warnings.warn(\n",
      "/home/ppaczek04/miniconda3/envs/um_env/lib/python3.11/site-packages/sklearn/base.py:486: UserWarning: X has feature names, but DecisionTreeClassifier was fitted without feature names\n",
      "  warnings.warn(\n",
      "/home/ppaczek04/miniconda3/envs/um_env/lib/python3.11/site-packages/sklearn/base.py:486: UserWarning: X has feature names, but DecisionTreeClassifier was fitted without feature names\n",
      "  warnings.warn(\n",
      "/home/ppaczek04/miniconda3/envs/um_env/lib/python3.11/site-packages/sklearn/base.py:486: UserWarning: X has feature names, but DecisionTreeClassifier was fitted without feature names\n",
      "  warnings.warn(\n"
     ]
    }
   ],
   "source": [
    "# list of names of columns\n",
    "feature_names = X.columns\n",
    "\n",
    "# we crate a rank list\n",
    "ranking = []\n",
    "\n",
    "rnd_clf = RandomForestClassifier(n_estimators=30) # by default, max_samples = 1.0, boostrap = True,  n_jobs = -1\n",
    "rnd_clf.fit(X_train, y_train)\n",
    "\n",
    "for est, feat_idxs in zip(bag_clf.estimators_, bag_clf.estimators_features_): #estimator _features works if we trained RandomForest earlier\n",
    "    selected_features = feature_names[list(feat_idxs)]\n",
    "\n",
    "    X_train_sub = X_train[selected_features]\n",
    "    X_test_sub = X_test[selected_features]\n",
    "\n",
    "    acc_train = accuracy_score(y_train, est.predict(X_train_sub))\n",
    "    acc_test = accuracy_score(y_test, est.predict(X_test_sub))\n",
    "\n",
    "    ranking.append({\n",
    "        \"train_acc\": acc_train,\n",
    "        \"test_acc\": acc_test,\n",
    "        \"features\": list(selected_features)\n",
    "    })\n",
    "\n",
    "# we sort the created dataframe\n",
    "import pandas as pd\n",
    "\n",
    "df_rank = pd.DataFrame(ranking)\n",
    "df_rank = df_rank.sort_values(by=[\"test_acc\", \"train_acc\"], ascending=False)\n",
    "\n",
    "# saving data to pickle file\n",
    "with open(\"acc_fea_rank.pkl\", \"wb\") as f:\n",
    "    pickle.dump(df_rank, f)"
   ]
  },
  {
   "cell_type": "markdown",
   "id": "8020e8f4-3987-4ac3-9b67-d7c601b4a99b",
   "metadata": {},
   "source": [
    "**The output shows the ranking of different decision trees within the Bagging ensemble, sorted by their `test accuracy` and `training accuracy`**."
   ]
  },
  {
   "cell_type": "code",
   "execution_count": 21,
   "id": "13bb0c82-6744-43cd-8e50-f0416522b16c",
   "metadata": {},
   "outputs": [
    {
     "name": "stdout",
     "output_type": "stream",
     "text": [
      "    train_acc  test_acc                                           features\n",
      "12   0.947253  0.929825                  [mean concave points, worst area]\n",
      "23   0.940659  0.929825                    [worst concavity, worst radius]\n",
      "18   0.949451  0.921053                      [worst radius, texture error]\n",
      "7    0.940659  0.894737                  [mean area, worst concave points]\n",
      "6    0.927473  0.894737          [worst concave points, compactness error]\n",
      "9    0.931868  0.885965                          [worst area, mean radius]\n",
      "2    0.931868  0.868421                     [mean area, worst compactness]\n",
      "29   0.925275  0.868421          [worst fractal dimension, mean perimeter]\n",
      "26   0.920879  0.868421          [worst compactness, worst concave points]\n",
      "3    0.912088  0.859649                [mean concave points, radius error]\n",
      "10   0.896703  0.859649                        [worst symmetry, mean area]\n",
      "8    0.896703  0.850877                     [mean perimeter, radius error]\n",
      "1    0.890110  0.842105                   [symmetry error, mean concavity]\n",
      "20   0.909890  0.833333                    [worst texture, mean perimeter]\n",
      "21   0.857143  0.815789                  [symmetry error, worst concavity]\n",
      "5    0.859341  0.719298            [concave points error, perimeter error]\n",
      "16   0.848352  0.710526               [concave points error, radius error]\n",
      "4    0.848352  0.692982               [worst compactness, concavity error]\n",
      "19   0.839560  0.684211       [worst compactness, fractal dimension error]\n",
      "17   0.791209  0.675439              [mean symmetry, concave points error]\n",
      "0    0.854945  0.649123          [mean fractal dimension, perimeter error]\n",
      "24   0.780220  0.640351           [worst symmetry, mean fractal dimension]\n",
      "28   0.775824  0.640351        [mean fractal dimension, compactness error]\n",
      "25   0.810989  0.631579                 [mean smoothness, concavity error]\n",
      "27   0.804396  0.631579                     [mean symmetry, worst texture]\n",
      "13   0.782418  0.605263                     [symmetry error, mean texture]\n",
      "14   0.795604  0.596491                [concavity error, mean compactness]\n",
      "11   0.775824  0.552632              [texture error, concave points error]\n",
      "22   0.775824  0.552632               [mean smoothness, compactness error]\n",
      "15   0.767033  0.535088  [mean fractal dimension, fractal dimension error]\n"
     ]
    }
   ],
   "source": [
    "print(df_rank)"
   ]
  },
  {
   "cell_type": "markdown",
   "id": "b85d8081-2275-42fe-bed0-ec6be3aaa7d7",
   "metadata": {},
   "source": [
    "## 📌 Summary\n",
    "\n",
    "In this exercise, we explored the power of **ensemble methods** like **Bagging** with **Decision Trees**. By utilizing different subsets of features and data for each tree, we were able to reduce variance and improve model generalization. \n",
    "\n",
    "- **Feature selection**: The models showed that certain features (e.g., `worst area`, `mean texture`, `mean radius`) have a significant impact on prediction accuracy.\n",
    "- **Performance**: We observed that ensemble models outperformed individual decision trees by reducing overfitting and improving overall accuracy on the test set.\n",
    "  \n",
    "This approach demonstrates how combining multiple models with diverse perspectives can lead to more robust and reliable predictions, especially in complex tasks like tumor classification.\n"
   ]
  }
 ],
 "metadata": {
  "kernelspec": {
   "display_name": "Python 3 (ipykernel)",
   "language": "python",
   "name": "python3"
  },
  "language_info": {
   "codemirror_mode": {
    "name": "ipython",
    "version": 3
   },
   "file_extension": ".py",
   "mimetype": "text/x-python",
   "name": "python",
   "nbconvert_exporter": "python",
   "pygments_lexer": "ipython3",
   "version": "3.11.11"
  }
 },
 "nbformat": 4,
 "nbformat_minor": 5
}
